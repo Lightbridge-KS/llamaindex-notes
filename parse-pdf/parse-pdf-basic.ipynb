{
 "cells": [
  {
   "cell_type": "markdown",
   "metadata": {},
   "source": [
    "# Parse PDF (Basic)"
   ]
  },
  {
   "cell_type": "code",
   "execution_count": 6,
   "metadata": {},
   "outputs": [],
   "source": [
    "from dotenv import load_dotenv\n",
    "import nest_asyncio\n",
    "\n",
    "load_dotenv()\n",
    "nest_asyncio.apply()\n",
    "\n",
    "from llama_cloud_services import LlamaParse\n",
    "from llama_index.core import SimpleDirectoryReader"
   ]
  },
  {
   "cell_type": "code",
   "execution_count": 13,
   "metadata": {},
   "outputs": [],
   "source": [
    "import sys\n",
    "from pathlib import Path\n",
    "sys.path.insert(1, str(Path.cwd().parent)) \n",
    "\n",
    "from src.fs import write_pickle, read_pickle"
   ]
  },
  {
   "cell_type": "markdown",
   "metadata": {},
   "source": [
    "### Set up parser"
   ]
  },
  {
   "cell_type": "code",
   "execution_count": 7,
   "metadata": {},
   "outputs": [],
   "source": [
    "parser = LlamaParse(\n",
    "    result_type=\"markdown\",   # \"markdown\" and \"text\" are available\n",
    "    parse_mode=\"parse_page_with_llm\"\n",
    ")"
   ]
  },
  {
   "cell_type": "markdown",
   "metadata": {},
   "source": [
    "### Parse"
   ]
  },
  {
   "cell_type": "code",
   "execution_count": 8,
   "metadata": {},
   "outputs": [
    {
     "data": {
      "text/plain": [
       "<llama_index.core.readers.file.base.SimpleDirectoryReader at 0x1296db350>"
      ]
     },
     "execution_count": 8,
     "metadata": {},
     "output_type": "execute_result"
    }
   ],
   "source": [
    "file_extractor = {\".pdf\": parser}\n",
    "reader = SimpleDirectoryReader(input_files=['pdf/Abn_LFT.pdf'], file_extractor=file_extractor)\n",
    "reader"
   ]
  },
  {
   "cell_type": "code",
   "execution_count": 9,
   "metadata": {},
   "outputs": [
    {
     "name": "stdout",
     "output_type": "stream",
     "text": [
      "Started parsing the file under job_id ce0234f5-6092-4ab0-8a96-a2dc35aadf4b\n"
     ]
    }
   ],
   "source": [
    "documents = reader.load_data()"
   ]
  },
  {
   "cell_type": "code",
   "execution_count": null,
   "metadata": {},
   "outputs": [],
   "source": [
    "write_pickle(documents, \"pkl/documents-basic.pkl\")"
   ]
  },
  {
   "cell_type": "code",
   "execution_count": 17,
   "metadata": {},
   "outputs": [
    {
     "data": {
      "text/plain": [
       "{'id_': 'f62aa09f-b561-4962-bd30-cdc03144a3d9',\n",
       " 'embedding': None,\n",
       " 'metadata': {'file_path': 'pdf/Abn_LFT.pdf',\n",
       "  'file_name': 'Abn_LFT.pdf',\n",
       "  'file_type': 'application/pdf',\n",
       "  'file_size': 174690,\n",
       "  'creation_date': '2025-02-23',\n",
       "  'last_modified_date': '2025-02-23'},\n",
       " 'excluded_embed_metadata_keys': ['file_name',\n",
       "  'file_type',\n",
       "  'file_size',\n",
       "  'creation_date',\n",
       "  'last_modified_date',\n",
       "  'last_accessed_date'],\n",
       " 'excluded_llm_metadata_keys': ['file_name',\n",
       "  'file_type',\n",
       "  'file_size',\n",
       "  'creation_date',\n",
       "  'last_modified_date',\n",
       "  'last_accessed_date'],\n",
       " 'relationships': {},\n",
       " 'metadata_template': '{key}: {value}',\n",
       " 'metadata_separator': '\\n',\n",
       " 'text_resource': {'embeddings': None,\n",
       "  'text': '# New 2023\\n\\n# American College of Radiology\\n\\n# ACR Appropriateness Criteria®\\n\\n# Abnormal Liver Function Tests\\n\\n# Variant 1: Abnormal liver function tests. Hepatocellular predominance with mild aminotransferase increase. Initial imaging.\\n\\n|Procedure|Appropriateness Category|Relative Radiation Level|\\n|---|---|---|\\n|US abdomen|Usually Appropriate|O|\\n|US duplex Doppler abdomen|Usually Appropriate|O|\\n|US shear wave elastography abdomen|May Be Appropriate|O|\\n|MR elastography abdomen|May Be Appropriate|O|\\n|MRI abdomen without and with IV contrast with MRCP|May Be Appropriate|O|\\n|MRI abdomen without IV contrast with MRCP|May Be Appropriate|O|\\n|CT abdomen and pelvis without IV contrast|May Be Appropriate|☢☢☢|\\n|US abdomen with IV contrast|Usually Not Appropriate|O|\\n|CT abdomen and pelvis with IV contrast|Usually Not Appropriate|☢☢☢|\\n|CT abdomen and pelvis without and with IV contrast|Usually Not Appropriate|☢☢☢☢|\\n\\n# Variant 2: Abnormal liver function tests. Hepatocellular predominance with moderate or severe aminotransferase increase. Initial imaging.\\n\\n|Procedure|Appropriateness Category|Relative Radiation Level|\\n|---|---|---|\\n|US abdomen|Usually Appropriate|O|\\n|US duplex Doppler abdomen|Usually Appropriate|O|\\n|CT abdomen and pelvis with IV contrast|Usually Appropriate|☢☢☢|\\n|MRI abdomen without and with IV contrast with MRCP|May Be Appropriate|O|\\n|MRI abdomen without IV contrast with MRCP|May Be Appropriate|O|\\n|CT abdomen and pelvis without IV contrast|May Be Appropriate|☢☢☢|\\n|US abdomen with IV contrast|Usually Not Appropriate|O|\\n|US shear wave elastography abdomen|Usually Not Appropriate|O|\\n|MR elastography abdomen|Usually Not Appropriate|O|\\n|CT abdomen and pelvis without and with IV contrast|Usually Not Appropriate|☢☢☢☢|\\n\\n# ACR Appropriateness Criteria®\\n\\n# 1 Abnormal Liver Function Tests',\n",
       "  'path': None,\n",
       "  'url': None,\n",
       "  'mimetype': None},\n",
       " 'image_resource': None,\n",
       " 'audio_resource': None,\n",
       " 'video_resource': None,\n",
       " 'text_template': '{metadata_str}\\n\\n{content}',\n",
       " 'class_name': 'Document',\n",
       " 'text': '# New 2023\\n\\n# American College of Radiology\\n\\n# ACR Appropriateness Criteria®\\n\\n# Abnormal Liver Function Tests\\n\\n# Variant 1: Abnormal liver function tests. Hepatocellular predominance with mild aminotransferase increase. Initial imaging.\\n\\n|Procedure|Appropriateness Category|Relative Radiation Level|\\n|---|---|---|\\n|US abdomen|Usually Appropriate|O|\\n|US duplex Doppler abdomen|Usually Appropriate|O|\\n|US shear wave elastography abdomen|May Be Appropriate|O|\\n|MR elastography abdomen|May Be Appropriate|O|\\n|MRI abdomen without and with IV contrast with MRCP|May Be Appropriate|O|\\n|MRI abdomen without IV contrast with MRCP|May Be Appropriate|O|\\n|CT abdomen and pelvis without IV contrast|May Be Appropriate|☢☢☢|\\n|US abdomen with IV contrast|Usually Not Appropriate|O|\\n|CT abdomen and pelvis with IV contrast|Usually Not Appropriate|☢☢☢|\\n|CT abdomen and pelvis without and with IV contrast|Usually Not Appropriate|☢☢☢☢|\\n\\n# Variant 2: Abnormal liver function tests. Hepatocellular predominance with moderate or severe aminotransferase increase. Initial imaging.\\n\\n|Procedure|Appropriateness Category|Relative Radiation Level|\\n|---|---|---|\\n|US abdomen|Usually Appropriate|O|\\n|US duplex Doppler abdomen|Usually Appropriate|O|\\n|CT abdomen and pelvis with IV contrast|Usually Appropriate|☢☢☢|\\n|MRI abdomen without and with IV contrast with MRCP|May Be Appropriate|O|\\n|MRI abdomen without IV contrast with MRCP|May Be Appropriate|O|\\n|CT abdomen and pelvis without IV contrast|May Be Appropriate|☢☢☢|\\n|US abdomen with IV contrast|Usually Not Appropriate|O|\\n|US shear wave elastography abdomen|Usually Not Appropriate|O|\\n|MR elastography abdomen|Usually Not Appropriate|O|\\n|CT abdomen and pelvis without and with IV contrast|Usually Not Appropriate|☢☢☢☢|\\n\\n# ACR Appropriateness Criteria®\\n\\n# 1 Abnormal Liver Function Tests'}"
      ]
     },
     "execution_count": 17,
     "metadata": {},
     "output_type": "execute_result"
    }
   ],
   "source": [
    "documents[0].dict()"
   ]
  },
  {
   "cell_type": "code",
   "execution_count": 27,
   "metadata": {},
   "outputs": [
    {
     "name": "stdout",
     "output_type": "stream",
     "text": [
      "# New 2023\n",
      "\n",
      "# American College of Radiology\n",
      "\n",
      "# ACR Appropriateness Criteria®\n",
      "\n",
      "# Abnormal Liver Function Tests\n",
      "\n",
      "# Variant 1: Abnormal liver function tests. Hepatocellular predominance with mild aminotransferase increase. Initial imaging.\n",
      "\n",
      "|Procedure|Appropriateness Category|Relative Radiation Level|\n",
      "|---|---|---|\n",
      "|US abdomen|Usually Appropriate|O|\n",
      "|US duplex Doppler abdomen|Usually Appropriate|O|\n",
      "|US shear wave elastography abdomen|May Be Appropriate|O|\n",
      "|MR elastography abdomen|May Be Appropriate|O|\n",
      "|MRI abdomen without and with IV contrast with MRCP|May Be Appropriate|O|\n",
      "|MRI abdomen without IV contrast with MRCP|May Be Appropriate|O|\n",
      "|CT abdomen and pelvis without IV contrast|May Be Appropriate|☢☢☢|\n",
      "|US abdomen with IV contrast|Usually Not Appropriate|O|\n",
      "|CT abdomen and pelvis with IV contrast|Usually Not Appropriate|☢☢☢|\n",
      "|CT abdomen and pelvis without and with IV contrast|Usually Not Appropriate|☢☢☢☢|\n",
      "\n",
      "# Variant 2: Abnormal liver function tests. Hepatocellular predominance with moderate or severe aminotransferase increase. Initial imaging.\n",
      "\n",
      "|Procedure|Appropriateness Category|Relative Radiation Level|\n",
      "|---|---|---|\n",
      "|US abdomen|Usually Appropriate|O|\n",
      "|US duplex Doppler abdomen|Usually Appropriate|O|\n",
      "|CT abdomen and pelvis with IV contrast|Usually Appropriate|☢☢☢|\n",
      "|MRI abdomen without and with IV contrast with MRCP|May Be Appropriate|O|\n",
      "|MRI abdomen without IV contrast with MRCP|May Be Appropriate|O|\n",
      "|CT abdomen and pelvis without IV contrast|May Be Appropriate|☢☢☢|\n",
      "|US abdomen with IV contrast|Usually Not Appropriate|O|\n",
      "|US shear wave elastography abdomen|Usually Not Appropriate|O|\n",
      "|MR elastography abdomen|Usually Not Appropriate|O|\n",
      "|CT abdomen and pelvis without and with IV contrast|Usually Not Appropriate|☢☢☢☢|\n",
      "\n",
      "# ACR Appropriateness Criteria®\n",
      "\n",
      "# 1 Abnormal Liver Function Tests\n"
     ]
    }
   ],
   "source": [
    "from IPython.display import display_markdown\n",
    "display_markdown(print(documents[0].text))"
   ]
  }
 ],
 "metadata": {
  "kernelspec": {
   "display_name": ".venv",
   "language": "python",
   "name": "python3"
  },
  "language_info": {
   "codemirror_mode": {
    "name": "ipython",
    "version": 3
   },
   "file_extension": ".py",
   "mimetype": "text/x-python",
   "name": "python",
   "nbconvert_exporter": "python",
   "pygments_lexer": "ipython3",
   "version": "3.12.2"
  }
 },
 "nbformat": 4,
 "nbformat_minor": 2
}
